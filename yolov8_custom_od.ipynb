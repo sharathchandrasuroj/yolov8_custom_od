{
 "cells": [
  {
   "cell_type": "markdown",
   "id": "bc934490",
   "metadata": {},
   "source": [
    "### yolov8 Custom object detection"
   ]
  },
  {
   "cell_type": "raw",
   "id": "50a87491",
   "metadata": {},
   "source": [
    "Steps involved in custom object detection\n",
    "\n",
    "    1.Download images\n",
    "    2.Annoatate Images\n",
    "    3.Setup yolov8 environment\n",
    "    4.Train custom object detection model\n",
    "    5.Prediction on images,videos and webcam"
   ]
  },
  {
   "cell_type": "markdown",
   "id": "59d448e4",
   "metadata": {},
   "source": [
    "#### Create virtual environment"
   ]
  },
  {
   "cell_type": "code",
   "execution_count": null,
   "id": "e6a454fe",
   "metadata": {},
   "outputs": [],
   "source": [
    "%cd C:\\Users\\sharath\\Projects\\yolov8_custom_od"
   ]
  },
  {
   "cell_type": "code",
   "execution_count": null,
   "id": "d88ecd42",
   "metadata": {},
   "outputs": [],
   "source": [
    "#Create vrtual environment using anaconda\n",
    "conda create -n yolov8_custom_od python == 3.10 -y\n",
    "conda activate yolov8_custom_od"
   ]
  },
  {
   "cell_type": "markdown",
   "id": "00652420",
   "metadata": {},
   "source": [
    "### Download the images from google"
   ]
  },
  {
   "cell_type": "code",
   "execution_count": null,
   "id": "d2cd9cd2",
   "metadata": {},
   "outputs": [],
   "source": [
    "#Install necessory libraries\n",
    "pip install simple-image-download==0.4"
   ]
  },
  {
   "cell_type": "code",
   "execution_count": null,
   "id": "4f57b2ae",
   "metadata": {},
   "outputs": [],
   "source": [
    "#Write a python script to download images,create a new file named as download_images.py\n",
    "\n",
    "from simple-images-download import simple-image-download as simp\n",
    "\n",
    "response = simp.simple-image-download\n",
    "\n",
    "keywords = [\"Building workers\"]\n",
    "\n",
    "for kw in keywords:\n",
    "    response.download(kw,200)\n",
    "    \n",
    "    \n"
   ]
  },
  {
   "cell_type": "code",
   "execution_count": null,
   "id": "2c56f48d",
   "metadata": {},
   "outputs": [],
   "source": [
    "#open anaconda prompt, run the file\n",
    "python download_images.py\n",
    "\n",
    "\n",
    "o/p: simple-images"
   ]
  },
  {
   "cell_type": "code",
   "execution_count": null,
   "id": "ed41cf45",
   "metadata": {},
   "outputs": [],
   "source": [
    "#create images folder and copy main 50 images and remove remain images"
   ]
  },
  {
   "cell_type": "markdown",
   "id": "62e82d3e",
   "metadata": {},
   "source": [
    "### Annotating Images"
   ]
  },
  {
   "cell_type": "code",
   "execution_count": null,
   "id": "09a129f4",
   "metadata": {},
   "outputs": [],
   "source": [
    "#To annotating an images install lableme\n",
    "pip install labelImg\n",
    "labelImg"
   ]
  },
  {
   "cell_type": "code",
   "execution_count": null,
   "id": "8495886b",
   "metadata": {},
   "outputs": [],
   "source": [
    "#Set open input directory and output directory, \n",
    "#change settings  \"save automatically\"\n",
    "i/p :  yolov8_custom-od/images\n",
    "o/p :  yolov8_custom-od/labels\n"
   ]
  },
  {
   "cell_type": "code",
   "execution_count": null,
   "id": "49cc3508",
   "metadata": {},
   "outputs": [],
   "source": [
    "#create train and val folders \n",
    "#Train Folder : makes subflders in train folders and named as \"images\" and \"lables\"\n",
    "\n",
    "#Copy and paste alst 6 images in train folder paste in val folder\n",
    "\n",
    "#val Folder : makes subflders in train folders and named as \"images\" and \"lables\"\n",
    "\n"
   ]
  },
  {
   "cell_type": "code",
   "execution_count": null,
   "id": "77fb0ab3",
   "metadata": {},
   "outputs": [],
   "source": [
    "#create classes.txt file and paste in root directory"
   ]
  },
  {
   "cell_type": "code",
   "execution_count": null,
   "id": "05291c64",
   "metadata": {},
   "outputs": [],
   "source": [
    "#create data_custom_od.yaml file,give absolute path\n",
    "\n",
    "train : c://users/sharath/yolov8_custom_od/train\n",
    "\n",
    "val : c://users/sharath/yolov8_custom_od/val\n",
    "        \n",
    "nc : 2\n",
    "\n",
    "names : [\"hat\",\"jacket\"]"
   ]
  },
  {
   "cell_type": "code",
   "execution_count": null,
   "id": "d68fef5f",
   "metadata": {},
   "outputs": [],
   "source": []
  },
  {
   "cell_type": "markdown",
   "id": "d20401e5",
   "metadata": {},
   "source": [
    "### Download libraries"
   ]
  },
  {
   "cell_type": "code",
   "execution_count": null,
   "id": "b0fff95b",
   "metadata": {},
   "outputs": [],
   "source": [
    "#Download required libraries\n",
    "#install ultralytics\n",
    "pip install ultralytics"
   ]
  },
  {
   "cell_type": "code",
   "execution_count": null,
   "id": "3c38ae76",
   "metadata": {},
   "outputs": [],
   "source": [
    "#Download pytorch\n",
    "#For CPU,  \n",
    "pip install pytorch\n",
    "\n",
    "#For GPU,download cuda based pytorch from pytorch offcial website\n",
    "\n",
    "pip3 install torch torchvision torchaudio --index-url https://download.pytorch.org/whl/cu121"
   ]
  },
  {
   "cell_type": "code",
   "execution_count": null,
   "id": "8a822156",
   "metadata": {},
   "outputs": [],
   "source": []
  },
  {
   "cell_type": "markdown",
   "id": "f27a4b9d",
   "metadata": {},
   "source": [
    "### Download pretrained yolov8 object detection model"
   ]
  },
  {
   "cell_type": "code",
   "execution_count": null,
   "id": "80d6a6f1",
   "metadata": {},
   "outputs": [],
   "source": [
    "#Download yolov8m.pt model from offcial yolov8 website\n",
    "https://github.com/ultralytics/assets/releases/download/v8.1.0/yolov8m.pt"
   ]
  },
  {
   "cell_type": "markdown",
   "id": "385260fb",
   "metadata": {},
   "source": [
    "### Train the model"
   ]
  },
  {
   "cell_type": "code",
   "execution_count": null,
   "id": "e9bf2ff0",
   "metadata": {},
   "outputs": [],
   "source": [
    "#To train yolov8 custom object detection model\n",
    "\n",
    "yolo task=detect mode=train epochs=100 data=data_custom_od.yaml model=yolov8m.pt imgsz=640 batch=8\n",
    "\n",
    "\n",
    "\n",
    "\n",
    "o/p:runs/detect/train  "
   ]
  },
  {
   "cell_type": "raw",
   "id": "623a1078",
   "metadata": {},
   "source": [
    "It will craete an error, give absolute path"
   ]
  },
  {
   "cell_type": "code",
   "execution_count": null,
   "id": "71cbe30c",
   "metadata": {},
   "outputs": [],
   "source": [
    "#To early stop the model\n",
    "#To train yolov8 custom object detection model\n",
    "\n",
    "yolo task=detect mode=train epochs=100 data=data_custom_od.yaml model=yolov8m.pt imgsz=640 batch=8 patience=128\n",
    "\n",
    "o/p:runs/detect/train"
   ]
  },
  {
   "cell_type": "code",
   "execution_count": null,
   "id": "ae7310da",
   "metadata": {},
   "outputs": [],
   "source": [
    "#the above will generates best.pt and last.pt\n",
    "# copy and paste best.pt and rename is as yolov8m_custom_od.pt and place in root folder"
   ]
  },
  {
   "cell_type": "raw",
   "id": "d10c86fb",
   "metadata": {},
   "source": [
    "For inferencing ,copy and paste any images from test folder and copy at root directory \n",
    "ex: 1.jpg"
   ]
  },
  {
   "cell_type": "code",
   "execution_count": null,
   "id": "5a41ad5f",
   "metadata": {},
   "outputs": [],
   "source": []
  },
  {
   "cell_type": "markdown",
   "id": "b2afdac1",
   "metadata": {},
   "source": [
    "### Inference model"
   ]
  },
  {
   "cell_type": "code",
   "execution_count": null,
   "id": "0621a529",
   "metadata": {},
   "outputs": [],
   "source": [
    "#To test the model using python script\n"
   ]
  },
  {
   "cell_type": "code",
   "execution_count": null,
   "id": "dc71325c",
   "metadata": {},
   "outputs": [],
   "source": [
    "#To test yolov8 custom object detection model\n",
    "\n",
    "yolo task=detect mode=predict model=yolov8m_custom_od.pt source=1.jpg imgsz=640 conf=0.5 show=true \n",
    "\n",
    "o/p:runs/detect/test"
   ]
  },
  {
   "cell_type": "code",
   "execution_count": null,
   "id": "f8b11ca2",
   "metadata": {},
   "outputs": [],
   "source": [
    "#To Remove bounding box and confident score over the detected images\n",
    "yolo task=detect mode=predict model=yolov8m_custom_od.pt source=1.jpg conf=0.5 show=True save_txt=True hide_labels=True hide_conf=True "
   ]
  },
  {
   "cell_type": "code",
   "execution_count": null,
   "id": "05b523b2",
   "metadata": {},
   "outputs": [],
   "source": [
    "#To test the model on videos\n",
    "yolo task=detect mode=predict model=yolov8m_custom_od.pt source=video.mp4 conf=0.5 show=True"
   ]
  },
  {
   "cell_type": "code",
   "execution_count": null,
   "id": "7cc653eb",
   "metadata": {},
   "outputs": [],
   "source": [
    "#To increase line thcikness for bounding boxes\n",
    "#To test yolov8 custom object detection model\n",
    "\n",
    "yolo task=detect mode=predict model=yolov8m_custom_od.pt source=1.jpg imgsz=640 conf=0.5 show=true line_thickness=2"
   ]
  },
  {
   "cell_type": "code",
   "execution_count": null,
   "id": "485eeea6",
   "metadata": {},
   "outputs": [],
   "source": [
    "#TO asved cropped images\n",
    "#To test yolov8 custom object detection model\n",
    "\n",
    "yolo task=detect mode=predict model=yolov8m_custom_od.pt source=1.jpg imgsz=640 conf=0.5 show=true save_crop=True"
   ]
  },
  {
   "cell_type": "code",
   "execution_count": null,
   "id": "638799f5",
   "metadata": {},
   "outputs": [],
   "source": [
    "#To test yolov8 custom object detection model fro specific class\n",
    "\n",
    "yolo task=detect mode=predict model=yolov8m_custom_od.pt source=1.jpg imgsz=640 conf=0.5 show=true class=[0]"
   ]
  },
  {
   "cell_type": "code",
   "execution_count": null,
   "id": "33d9f644",
   "metadata": {},
   "outputs": [],
   "source": [
    "#Object detection using webcam\n",
    "yolo task=detect mode=predict model=yolov8m_custom_od.pt source=0 conf=0.5 show=True \n",
    "\n",
    "\n",
    "# source=0 ---->>>for video camera\n",
    "# sorce = url ---->>> for online web camera\n",
    "# source = test directory ---->>> Real images"
   ]
  },
  {
   "cell_type": "code",
   "execution_count": null,
   "id": "a2eecf19",
   "metadata": {},
   "outputs": [],
   "source": []
  },
  {
   "cell_type": "code",
   "execution_count": null,
   "id": "c14ba089",
   "metadata": {},
   "outputs": [],
   "source": [
    "#To retrain the model once again again delete val/label.cache and train/label.cache files"
   ]
  },
  {
   "cell_type": "code",
   "execution_count": null,
   "id": "e338a8ef",
   "metadata": {},
   "outputs": [],
   "source": []
  },
  {
   "cell_type": "markdown",
   "id": "ebfb38da",
   "metadata": {},
   "source": [
    "### Export Models -ONNX model"
   ]
  },
  {
   "cell_type": "code",
   "execution_count": null,
   "id": "0164e5bb",
   "metadata": {},
   "outputs": [],
   "source": [
    "#ONNX Model for object detection\n",
    "yolo task=detect mode=export model=yolov8m_custom_od.pt format=onnx\n",
    "\n",
    "#o/p: yolov8/onnx"
   ]
  },
  {
   "cell_type": "code",
   "execution_count": null,
   "id": "ae89f9b5",
   "metadata": {},
   "outputs": [],
   "source": [
    "#TF-Lite Model\n",
    "yolo task=detect/segment mode=export model=yolov8m_custom_od.pt format=tflite\n",
    "\n",
    "#o/p: yolov8/onnx"
   ]
  },
  {
   "cell_type": "code",
   "execution_count": null,
   "id": "7481362d",
   "metadata": {},
   "outputs": [],
   "source": []
  },
  {
   "cell_type": "code",
   "execution_count": null,
   "id": "09f0ebb1",
   "metadata": {},
   "outputs": [],
   "source": []
  },
  {
   "cell_type": "code",
   "execution_count": null,
   "id": "38bd0951",
   "metadata": {},
   "outputs": [],
   "source": []
  },
  {
   "cell_type": "code",
   "execution_count": null,
   "id": "7e7df674",
   "metadata": {},
   "outputs": [],
   "source": []
  },
  {
   "cell_type": "code",
   "execution_count": null,
   "id": "084258c8",
   "metadata": {},
   "outputs": [],
   "source": []
  },
  {
   "cell_type": "code",
   "execution_count": null,
   "id": "fabc8d54",
   "metadata": {},
   "outputs": [],
   "source": []
  },
  {
   "cell_type": "code",
   "execution_count": null,
   "id": "2c372712",
   "metadata": {},
   "outputs": [],
   "source": []
  },
  {
   "cell_type": "code",
   "execution_count": null,
   "id": "e6c27087",
   "metadata": {},
   "outputs": [],
   "source": []
  }
 ],
 "metadata": {
  "kernelspec": {
   "display_name": "Python 3 (ipykernel)",
   "language": "python",
   "name": "python3"
  },
  "language_info": {
   "codemirror_mode": {
    "name": "ipython",
    "version": 3
   },
   "file_extension": ".py",
   "mimetype": "text/x-python",
   "name": "python",
   "nbconvert_exporter": "python",
   "pygments_lexer": "ipython3",
   "version": "3.9.18"
  }
 },
 "nbformat": 4,
 "nbformat_minor": 5
}
